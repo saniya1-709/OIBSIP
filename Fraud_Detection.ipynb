{
  "nbformat": 4,
  "nbformat_minor": 0,
  "metadata": {
    "colab": {
      "provenance": [],
      "authorship_tag": "ABX9TyPbXA7e+wmQKRU2sZp/l72w",
      "include_colab_link": true
    },
    "kernelspec": {
      "name": "python3",
      "display_name": "Python 3"
    },
    "language_info": {
      "name": "python"
    }
  },
  "cells": [
    {
      "cell_type": "markdown",
      "metadata": {
        "id": "view-in-github",
        "colab_type": "text"
      },
      "source": [
        "<a href=\"https://colab.research.google.com/github/saniya1-709/OIBSIP/blob/main/Fraud_Detection.ipynb\" target=\"_parent\"><img src=\"https://colab.research.google.com/assets/colab-badge.svg\" alt=\"Open In Colab\"/></a>"
      ]
    },
    {
      "cell_type": "code",
      "execution_count": 2,
      "metadata": {
        "id": "o8iOtoc9kx20"
      },
      "outputs": [],
      "source": [
        "# Importing necessary libraries\n",
        "import numpy as np\n",
        "import pandas as pd\n",
        "import matplotlib.pyplot as plt\n",
        "import seaborn as sns\n",
        "from sklearn.model_selection import train_test_split\n",
        "from sklearn.preprocessing import StandardScaler\n",
        "from sklearn.ensemble import RandomForestClassifier\n",
        "from sklearn.linear_model import LogisticRegression\n",
        "from sklearn.metrics import classification_report, confusion_matrix, roc_auc_score, roc_curve\n",
        "from imblearn.over_sampling import SMOTE\n",
        "from sklearn.model_selection import GridSearchCV"
      ]
    },
    {
      "cell_type": "code",
      "source": [
        "# Loading the dataset\n",
        "data = pd.read_csv(\"/content/creditcard[1].csv\")\n"
      ],
      "metadata": {
        "id": "y2FdFdzGlONj"
      },
      "execution_count": 3,
      "outputs": []
    },
    {
      "cell_type": "code",
      "source": [
        "# Data Exploration\n",
        "def explore_data(data):\n",
        "    print(\"Dataset Information:\\n\")\n",
        "    print(data.info())\n",
        "\n",
        "    print(\"\\nSummary Statistics:\\n\")\n",
        "    print(data.describe())\n",
        "\n",
        "    print(\"\\nClass Distribution:\\n\")\n",
        "    print(data['Class'].value_counts(normalize=True))"
      ],
      "metadata": {
        "id": "DUOeRPCslX-x"
      },
      "execution_count": 4,
      "outputs": []
    },
    {
      "cell_type": "code",
      "source": [
        "# Visualizing Class Distribution\n",
        "def visualize_class_distribution(data):\n",
        "    plt.figure(figsize=(6, 4))\n",
        "    sns.countplot(x='Class', data=data, palette='viridis')\n",
        "    plt.title('Class Distribution')\n",
        "    plt.xlabel('Class (0: Legitimate, 1: Fraud)')\n",
        "    plt.ylabel('Count')\n",
        "    plt.show()"
      ],
      "metadata": {
        "id": "zkIpYmmJlgUi"
      },
      "execution_count": 5,
      "outputs": []
    },
    {
      "cell_type": "code",
      "source": [
        "# Call exploration and visualization functions\n",
        "explore_data(data)\n",
        "visualize_class_distribution(data)"
      ],
      "metadata": {
        "colab": {
          "base_uri": "https://localhost:8080/",
          "height": 1000
        },
        "id": "lDu31eJLlkAQ",
        "outputId": "c20c2629-a73b-4ccd-9c8b-fd8333ff5835"
      },
      "execution_count": 6,
      "outputs": [
        {
          "output_type": "stream",
          "name": "stdout",
          "text": [
            "Dataset Information:\n",
            "\n",
            "<class 'pandas.core.frame.DataFrame'>\n",
            "RangeIndex: 67434 entries, 0 to 67433\n",
            "Data columns (total 31 columns):\n",
            " #   Column  Non-Null Count  Dtype  \n",
            "---  ------  --------------  -----  \n",
            " 0   Time    67434 non-null  int64  \n",
            " 1   V1      67434 non-null  float64\n",
            " 2   V2      67434 non-null  float64\n",
            " 3   V3      67434 non-null  float64\n",
            " 4   V4      67434 non-null  float64\n",
            " 5   V5      67434 non-null  float64\n",
            " 6   V6      67434 non-null  float64\n",
            " 7   V7      67434 non-null  float64\n",
            " 8   V8      67434 non-null  float64\n",
            " 9   V9      67434 non-null  float64\n",
            " 10  V10     67434 non-null  float64\n",
            " 11  V11     67434 non-null  float64\n",
            " 12  V12     67434 non-null  float64\n",
            " 13  V13     67434 non-null  float64\n",
            " 14  V14     67434 non-null  float64\n",
            " 15  V15     67434 non-null  float64\n",
            " 16  V16     67434 non-null  float64\n",
            " 17  V17     67434 non-null  float64\n",
            " 18  V18     67434 non-null  float64\n",
            " 19  V19     67434 non-null  float64\n",
            " 20  V20     67434 non-null  float64\n",
            " 21  V21     67433 non-null  float64\n",
            " 22  V22     67433 non-null  float64\n",
            " 23  V23     67433 non-null  float64\n",
            " 24  V24     67433 non-null  float64\n",
            " 25  V25     67433 non-null  float64\n",
            " 26  V26     67433 non-null  float64\n",
            " 27  V27     67433 non-null  float64\n",
            " 28  V28     67433 non-null  float64\n",
            " 29  Amount  67433 non-null  float64\n",
            " 30  Class   67433 non-null  float64\n",
            "dtypes: float64(30), int64(1)\n",
            "memory usage: 15.9 MB\n",
            "None\n",
            "\n",
            "Summary Statistics:\n",
            "\n",
            "               Time            V1            V2            V3            V4  \\\n",
            "count  67434.000000  67434.000000  67434.000000  67434.000000  67434.000000   \n",
            "mean   33976.974835     -0.241622     -0.018321      0.683462      0.169473   \n",
            "std    14222.001116      1.857614      1.649726      1.418358      1.377279   \n",
            "min        0.000000    -56.407510    -72.715728    -32.965346     -5.172595   \n",
            "25%    28238.000000     -1.001783     -0.590074      0.195636     -0.724684   \n",
            "50%    37354.000000     -0.241551      0.072585      0.772156      0.188286   \n",
            "75%    44551.000000      1.153782      0.728136      1.405294      1.053095   \n",
            "max    52534.000000      1.960497     18.183626      4.226108     16.715537   \n",
            "\n",
            "                 V5            V6            V7            V8            V9  \\\n",
            "count  67434.000000  67434.000000  67434.000000  67434.000000  67434.000000   \n",
            "mean      -0.268578      0.101759     -0.114429      0.057624      0.030096   \n",
            "std        1.385175      1.305232      1.251274      1.230082      1.167011   \n",
            "min      -42.147898    -26.160506    -31.764946    -73.216718     -9.283925   \n",
            "25%       -0.887468     -0.636482     -0.604414     -0.141812     -0.666519   \n",
            "50%       -0.301379     -0.149794     -0.074146      0.066101     -0.063081   \n",
            "75%        0.269637      0.494996      0.420850      0.343556      0.688096   \n",
            "max       34.801666     22.529298     36.677268     20.007208     10.392889   \n",
            "\n",
            "       ...           V21           V22           V23           V24  \\\n",
            "count  ...  67433.000000  67433.000000  67433.000000  67433.000000   \n",
            "mean   ...     -0.028557     -0.106489     -0.038823      0.005627   \n",
            "std    ...      0.738014      0.639314      0.608941      0.596550   \n",
            "min    ...    -34.830382    -10.933144    -26.751119     -2.836627   \n",
            "25%    ...     -0.226694     -0.526921     -0.179448     -0.325986   \n",
            "50%    ...     -0.061471     -0.081004     -0.051721      0.061460   \n",
            "75%    ...      0.115486      0.309548      0.078955      0.403106   \n",
            "max    ...     22.614889     10.503090     17.297845      4.014444   \n",
            "\n",
            "                V25           V26           V27           V28        Amount  \\\n",
            "count  67433.000000  67433.000000  67433.000000  67433.000000  67433.000000   \n",
            "mean       0.136606      0.020725      0.002811      0.003520     96.628136   \n",
            "std        0.439152      0.497668      0.382484      0.322323    269.895189   \n",
            "min       -7.495741     -2.534330     -8.567638     -9.617915      0.000000   \n",
            "25%       -0.127251     -0.329217     -0.062635     -0.005865      7.680000   \n",
            "50%        0.174488     -0.075903      0.009512      0.022750     26.310000   \n",
            "75%        0.422752      0.297957      0.082538      0.075882     88.500000   \n",
            "max        5.525093      3.517346     11.135740     33.847808  19656.530000   \n",
            "\n",
            "              Class  \n",
            "count  67433.000000  \n",
            "mean       0.002506  \n",
            "std        0.049999  \n",
            "min        0.000000  \n",
            "25%        0.000000  \n",
            "50%        0.000000  \n",
            "75%        0.000000  \n",
            "max        1.000000  \n",
            "\n",
            "[8 rows x 31 columns]\n",
            "\n",
            "Class Distribution:\n",
            "\n",
            "Class\n",
            "0.0    0.997494\n",
            "1.0    0.002506\n",
            "Name: proportion, dtype: float64\n"
          ]
        },
        {
          "output_type": "stream",
          "name": "stderr",
          "text": [
            "<ipython-input-5-10438dbb2283>:4: FutureWarning: \n",
            "\n",
            "Passing `palette` without assigning `hue` is deprecated and will be removed in v0.14.0. Assign the `x` variable to `hue` and set `legend=False` for the same effect.\n",
            "\n",
            "  sns.countplot(x='Class', data=data, palette='viridis')\n"
          ]
        },
        {
          "output_type": "display_data",
          "data": {
            "text/plain": [
              "<Figure size 600x400 with 1 Axes>"
            ],
            "image/png": "[encoded data removed]"
          },
          "metadata": {}
        }
      ]
    },
    {
      "cell_type": "code",
      "source": [
        "# Preprocessing: Feature Scaling and Train-Test Split\n",
        "X = data.drop(columns=['Class'])\n",
        "y = data['Class']"
      ],
      "metadata": {
        "id": "XzFKkV9Vlu6T"
      },
      "execution_count": 7,
      "outputs": []
    },
    {
      "cell_type": "code",
      "source": [
        "# Checking for missing values in the target variable\n",
        "print(\"Missing values in 'Class':\", data['Class'].isnull().sum())\n",
        "\n",
        "# Dropping rows with missing target values\n",
        "data = data.dropna(subset=['Class'])"
      ],
      "metadata": {
        "colab": {
          "base_uri": "https://localhost:8080/"
        },
        "id": "bdlZ2pQfmVNl",
        "outputId": "8ee78687-0ac4-450f-81ad-d966a532e2cd"
      },
      "execution_count": 13,
      "outputs": [
        {
          "output_type": "stream",
          "name": "stdout",
          "text": [
            "Missing values in 'Class': 0\n"
          ]
        }
      ]
    },
    {
      "cell_type": "code",
      "source": [
        "# Reassign X and y after handling missing values\n",
        "X = data.drop(columns=['Class'])\n",
        "y = data['Class']"
      ],
      "metadata": {
        "id": "7IhfwDYfmhaJ"
      },
      "execution_count": 14,
      "outputs": []
    },
    {
      "cell_type": "code",
      "source": [
        "# Scaling the 'Amount' and 'Time' features\n",
        "scaler = StandardScaler()\n",
        "X[['Time', 'Amount']] = scaler.fit_transform(X[['Time', 'Amount']])"
      ],
      "metadata": {
        "id": "L4SCEqM1l1nl"
      },
      "execution_count": 8,
      "outputs": []
    },
    {
      "cell_type": "code",
      "source": [
        "# Proceed with scaling and train-test split\n",
        "X[['Time', 'Amount']] = scaler.fit_transform(X[['Time', 'Amount']])\n",
        "X_train, X_test, y_train, y_test = train_test_split(X, y, test_size=0.3, random_state=42, stratify=y)"
      ],
      "metadata": {
        "id": "_roqcKLsl5jq"
      },
      "execution_count": 15,
      "outputs": []
    },
    {
      "cell_type": "code",
      "source": [
        "# Addressing Class Imbalance using SMOTE\n",
        "smote = SMOTE(random_state=42)\n",
        "X_train_smote, y_train_smote = smote.fit_resample(X_train, y_train)\n"
      ],
      "metadata": {
        "id": "GOjEW3IYmsTh"
      },
      "execution_count": 16,
      "outputs": []
    },
    {
      "cell_type": "code",
      "source": [
        "# Checking the distribution after SMOTE\n",
        "print(\"\\nClass Distribution After SMOTE:\")\n",
        "print(pd.Series(y_train_smote).value_counts())"
      ],
      "metadata": {
        "colab": {
          "base_uri": "https://localhost:8080/"
        },
        "id": "FjSZqaPWmur4",
        "outputId": "00224a9b-2199-4802-ba77-ff8406d1a745"
      },
      "execution_count": 17,
      "outputs": [
        {
          "output_type": "stream",
          "name": "stdout",
          "text": [
            "\n",
            "Class Distribution After SMOTE:\n",
            "Class\n",
            "0.0    47085\n",
            "1.0    47085\n",
            "Name: count, dtype: int64\n"
          ]
        }
      ]
    },
    {
      "cell_type": "code",
      "source": [
        "# Training and Evaluating Models\n",
        "def train_evaluate_model(X_train, y_train, X_test, y_test):\n",
        "    # Logistic Regression\n",
        "    lr = LogisticRegression(max_iter=1000, random_state=42)\n",
        "    lr.fit(X_train, y_train)\n",
        "    y_pred_lr = lr.predict(X_test)\n",
        "    print(\"\\nLogistic Regression Results:\")\n",
        "    print(classification_report(y_test, y_pred_lr))"
      ],
      "metadata": {
        "id": "KWRXSmujm2H5"
      },
      "execution_count": 18,
      "outputs": []
    },
    {
      "cell_type": "code",
      "source": [
        "    # Random Forest\n",
        "    rf = RandomForestClassifier(random_state=42)\n",
        "    rf.fit(X_train, y_train)\n",
        "    y_pred_rf = rf.predict(X_test)\n",
        "    print(\"\\nRandom Forest Results:\")\n",
        "    print(classification_report(y_test, y_pred_rf))"
      ],
      "metadata": {
        "colab": {
          "base_uri": "https://localhost:8080/"
        },
        "id": "BucnWeO6m67H",
        "outputId": "0c5153c1-25c7-466d-985b-3c46826ad942"
      },
      "execution_count": 19,
      "outputs": [
        {
          "output_type": "stream",
          "name": "stdout",
          "text": [
            "\n",
            "Random Forest Results:\n",
            "              precision    recall  f1-score   support\n",
            "\n",
            "         0.0       1.00      1.00      1.00     20179\n",
            "         1.0       0.91      0.80      0.85        51\n",
            "\n",
            "    accuracy                           1.00     20230\n",
            "   macro avg       0.96      0.90      0.93     20230\n",
            "weighted avg       1.00      1.00      1.00     20230\n",
            "\n"
          ]
        }
      ]
    },
    {
      "cell_type": "code",
      "source": [
        "    # Hyperparameter Tuning for Random Forest\n",
        "    param_grid = {\n",
        "        'n_estimators': [50, 100, 200],\n",
        "        'max_depth': [None, 10, 20, 30],\n",
        "        'min_samples_split': [2, 5, 10],\n",
        "    }\n",
        "    grid_search = GridSearchCV(RandomForestClassifier(random_state=42), param_grid, scoring='roc_auc', cv=3)\n",
        "    grid_search.fit(X_train, y_train)\n",
        "    best_rf = grid_search.best_estimator_\n",
        "\n",
        "    y_pred_best_rf = best_rf.predict(X_test)\n",
        "    print(\"\\nBest Random Forest Results:\")\n",
        "    print(classification_report(y_test, y_pred_best_rf))"
      ],
      "metadata": {
        "colab": {
          "base_uri": "https://localhost:8080/"
        },
        "id": "IhlpPapjnEwN",
        "outputId": "7008fb94-eac8-44b6-a7fb-b7e6a0566475"
      },
      "execution_count": 20,
      "outputs": [
        {
          "output_type": "stream",
          "name": "stdout",
          "text": [
            "\n",
            "Best Random Forest Results:\n",
            "              precision    recall  f1-score   support\n",
            "\n",
            "         0.0       1.00      1.00      1.00     20179\n",
            "         1.0       0.91      0.80      0.85        51\n",
            "\n",
            "    accuracy                           1.00     20230\n",
            "   macro avg       0.96      0.90      0.93     20230\n",
            "weighted avg       1.00      1.00      1.00     20230\n",
            "\n"
          ]
        }
      ]
    },
    {
      "cell_type": "code",
      "source": [
        "    # ROC-AUC Curve for the best Random Forest\n",
        "    y_pred_proba_rf = best_rf.predict_proba(X_test)[:, 1]\n",
        "    fpr, tpr, thresholds = roc_curve(y_test, y_pred_proba_rf)\n",
        "    auc_rf = roc_auc_score(y_test, y_pred_proba_rf)\n",
        "\n",
        "    plt.figure(figsize=(8, 6))\n",
        "    plt.plot(fpr, tpr, label=f'Best Random Forest (AUC = {auc_rf:.2f})')\n",
        "    plt.title('ROC Curve')\n",
        "    plt.xlabel('False Positive Rate')\n",
        "    plt.ylabel('True Positive Rate')\n",
        "    plt.legend(loc='lower right')\n",
        "    plt.show()"
      ],
      "metadata": {
        "colab": {
          "base_uri": "https://localhost:8080/",
          "height": 564
        },
        "id": "MvDAKFvdxi4e",
        "outputId": "9e1fea96-3cc6-45bb-b7ee-83eb5a60dd51"
      },
      "execution_count": 21,
      "outputs": [
        {
          "output_type": "display_data",
          "data": {
            "text/plain": [
              "<Figure size 800x600 with 1 Axes>"
            ],
            "image/png": "[encoded data removed]"
          },
          "metadata": {}
        }
      ]
    },
    {
      "cell_type": "code",
      "source": [
        "# Train and evaluate models\n",
        "train_evaluate_model(X_train_smote, y_train_smote, X_test, y_test)"
      ],
      "metadata": {
        "colab": {
          "base_uri": "https://localhost:8080/"
        },
        "id": "jve342flxoZF",
        "outputId": "c4d81282-ec6c-46a3-f6a5-cc9d875676bb"
      },
      "execution_count": 22,
      "outputs": [
        {
          "output_type": "stream",
          "name": "stdout",
          "text": [
            "\n",
            "Logistic Regression Results:\n",
            "              precision    recall  f1-score   support\n",
            "\n",
            "         0.0       1.00      0.99      0.99     20179\n",
            "         1.0       0.15      0.84      0.25        51\n",
            "\n",
            "    accuracy                           0.99     20230\n",
            "   macro avg       0.57      0.92      0.62     20230\n",
            "weighted avg       1.00      0.99      0.99     20230\n",
            "\n"
          ]
        }
      ]
    }
  ]
}